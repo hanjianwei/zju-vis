{
 "cells": [
  {
   "cell_type": "markdown",
   "id": "4354f9bb-db80-4c7c-8842-0eb0589ed343",
   "metadata": {},
   "source": [
    "# 基于Python的数据可视化环境介绍\n",
    "\n",
    "## 为什么要用Python\n",
    "\n",
    "- 易于学习和使用\n",
    "- 丰富的科学计算库\n",
    "- 开放的生态系统\n",
    "- 可视化能力强大\n",
    "- 与其他领域的集成\n",
    "- 快速原型开发"
   ]
  },
  {
   "cell_type": "markdown",
   "id": "4acff012-0d4f-4220-971b-c45842ed4b0f",
   "metadata": {},
   "source": [
    "## Anaconda\n",
    "\n",
    "- 开源、安装简单\n",
    "- 包含180+的科学包及其依赖项的发行版本\n",
    "- [下载](https://mirror.tuna.tsinghua.edu.cn/anaconda/archive/Anaconda3-2024.10-1-Windows-x86_64.exe)、[安装](https://docs.anaconda.com/free/anaconda/install/index.html)\n",
    "- 国内镜像：[浙大](https://mirror.zju.edu.cn/docs/anaconda/)、[清华](https://mirror.tuna.tsinghua.edu.cn/help/anaconda/)、[上交](https://mirrors.sjtug.sjtu.edu.cn/docs/anaconda)\n",
    "\n",
    "Anaconda中已经包含了可视化需要的大部分包，如果需要额外的包，可以自行安装：\n",
    "\n",
    "```bash\n",
    "conda install <包名>\n",
    "```\n",
    "或者\n",
    "```bash\n",
    "pip install <包名>\n",
    "```\n",
    "\n",
    "### 本试验需要的额外库安装\n",
    "\n",
    "```bash\n",
    "conda install folium\n",
    "```"
   ]
  },
  {
   "cell_type": "markdown",
   "id": "5f6b2db6-f0f7-454f-b691-465b378fec57",
   "metadata": {},
   "source": [
    "## Jupyter\n",
    "\n",
    "本实验基于Jupyter，它是一个笔记式的工具，具有很多优势：\n",
    "\n",
    "- **交互性**：允许用户实时编写和运行代码，并立即看到结果。\n",
    "- **可视化**：方便展示数据和结果，包括图形、表格等。\n",
    "- **多语言支持**：支持多种编程语言，如 Python、R、Julia 等。\n",
    "- **文档集成**：可以在同一环境中同时包含代码、注释和文档。\n",
    "- **分块编辑**：便于组织和管理代码。\n",
    "- **共享和协作**：方便与他人共享工作，进行协作。\n",
    "- **记录和重现**：自动记录代码执行过程，便于重现结果。\n",
    "- **灵活部署**：可在本地或云端部署。\n",
    "\n",
    "- [下载本次课代码](https://github.com/hanjianwei/zju-vis/archive/refs/heads/main.zip)，并解压\n",
    "- 打开 `Anaconda命令行` 或者 `Terminal`，切换到代码目录，运行 `jupyter notebook`\n",
    "- 在浏览器中会打开运行界面\n",
    "\n",
    "![Jupyter Notebook](images/jupyterpreview.webp)\n"
   ]
  },
  {
   "cell_type": "markdown",
   "id": "63062e81-49d5-4849-a127-82392036721d",
   "metadata": {},
   "source": [
    "## Python可视化包\n",
    "\n",
    "```mermaid\n",
    "mindmap\n",
    "  root((Python可视化工具))\n",
    "    基础绘图库\n",
    "      Matplotlib(\"Matplotlib<br>(基础绘图库，高度可定制)\")\n",
    "      Seaborn(\"Seaborn<br>(统计图表，基于Matplotlib)\")\n",
    "    交互式可视化\n",
    "      Plotly(\"Plotly<br>(交互式图表，支持3D/网页)\")\n",
    "      Bokeh(\"Bokeh<br>(Web浏览器交互可视化)\")\n",
    "    地理空间\n",
    "      Geopandas(\"Geopandas<br>(地理数据处理+基础绘图)\")\n",
    "      Folium(\"Folium<br>(Leaflet地图交互可视化)\")\n",
    "    高级API封装\n",
    "      Altair(\"Altair<br>(声明式语法，Vega-Lite)\")\n",
    "      HvPlot(\"HvPlot<br>(基于HoloViews的高级接口)\")\n",
    "    统计图表\n",
    "      Plotnine(\"Plotnine<br>(ggplot2语法移植)\")\n",
    "      Pygal(\"Pygal<br>(SVG矢量图表生成)\")\n",
    "    三维可视化\n",
    "      Mayavi(\"Mayavi<br>(科学数据三维渲染)\")\n",
    "      VisPy(\"VisPy<br>(OpenGL高性能可视化)\")\n",
    "    特殊领域\n",
    "      Wordcloud(\"Wordcloud<br>(词云生成)\")\n",
    "      NetworkX(\"NetworkX<br>(图网络可视化)\")\n",
    "```"
   ]
  }
 ],
 "metadata": {
  "kernelspec": {
   "display_name": "Python 3 (ipykernel)",
   "language": "python",
   "name": "python3"
  },
  "language_info": {
   "codemirror_mode": {
    "name": "ipython",
    "version": 3
   },
   "file_extension": ".py",
   "mimetype": "text/x-python",
   "name": "python",
   "nbconvert_exporter": "python",
   "pygments_lexer": "ipython3",
   "version": "3.12.7"
  }
 },
 "nbformat": 4,
 "nbformat_minor": 5
}
